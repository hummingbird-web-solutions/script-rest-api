{
 "cells": [
  {
   "cell_type": "code",
   "execution_count": 5,
   "metadata": {},
   "outputs": [],
   "source": [
    "import pandas as pd\n",
    "import numpy as np\n",
    "import re\n"
   ]
  },
  {
   "cell_type": "code",
   "execution_count": 39,
   "metadata": {},
   "outputs": [],
   "source": [
    "db = pd.read_excel(\"Data/size_attribute_prev.xlsx\")"
   ]
  },
  {
   "cell_type": "code",
   "execution_count": 40,
   "metadata": {},
   "outputs": [
    {
     "data": {
      "text/html": [
       "<div>\n",
       "<style scoped>\n",
       "    .dataframe tbody tr th:only-of-type {\n",
       "        vertical-align: middle;\n",
       "    }\n",
       "\n",
       "    .dataframe tbody tr th {\n",
       "        vertical-align: top;\n",
       "    }\n",
       "\n",
       "    .dataframe thead th {\n",
       "        text-align: right;\n",
       "    }\n",
       "</style>\n",
       "<table border=\"1\" class=\"dataframe\">\n",
       "  <thead>\n",
       "    <tr style=\"text-align: right;\">\n",
       "      <th></th>\n",
       "      <th>code</th>\n",
       "      <th>label-en_US</th>\n",
       "      <th>attribute</th>\n",
       "      <th>sort_order</th>\n",
       "    </tr>\n",
       "  </thead>\n",
       "  <tbody>\n",
       "    <tr>\n",
       "      <th>0</th>\n",
       "      <td>R</td>\n",
       "      <td>R</td>\n",
       "      <td>size</td>\n",
       "      <td>0</td>\n",
       "    </tr>\n",
       "    <tr>\n",
       "      <th>1</th>\n",
       "      <td>ADULT</td>\n",
       "      <td>Adult</td>\n",
       "      <td>size</td>\n",
       "      <td>1</td>\n",
       "    </tr>\n",
       "    <tr>\n",
       "      <th>2</th>\n",
       "      <td>4X_LARGE</td>\n",
       "      <td>4X Large</td>\n",
       "      <td>size</td>\n",
       "      <td>2</td>\n",
       "    </tr>\n",
       "    <tr>\n",
       "      <th>3</th>\n",
       "      <td>LARGE</td>\n",
       "      <td>Large</td>\n",
       "      <td>size</td>\n",
       "      <td>3</td>\n",
       "    </tr>\n",
       "    <tr>\n",
       "      <th>4</th>\n",
       "      <td>3X_LARGE</td>\n",
       "      <td>3X Large</td>\n",
       "      <td>size</td>\n",
       "      <td>4</td>\n",
       "    </tr>\n",
       "  </tbody>\n",
       "</table>\n",
       "</div>"
      ],
      "text/plain": [
       "       code label-en_US attribute  sort_order\n",
       "0         R           R      size           0\n",
       "1     ADULT       Adult      size           1\n",
       "2  4X_LARGE    4X Large      size           2\n",
       "3     LARGE       Large      size           3\n",
       "4  3X_LARGE    3X Large      size           4"
      ]
     },
     "execution_count": 40,
     "metadata": {},
     "output_type": "execute_result"
    }
   ],
   "source": [
    "df = pd.DataFrame(db)\n",
    "df.head()"
   ]
  },
  {
   "cell_type": "code",
   "execution_count": 41,
   "metadata": {},
   "outputs": [
    {
     "name": "stdout",
     "output_type": "stream",
     "text": [
      "28\" x 36\"\n",
      "36\" x 45\"\n",
      "18\" x 36\"\n",
      "35\" x 45\"\n",
      "24\" x 18\"\n",
      "20\" x 34\"\n",
      "35\" x 48\"\n",
      "36\" x 60\"\n",
      "35\" x 50\"\n",
      "35\" x 55\"\n",
      "24\" x 36\"\n",
      "27\" x 45\"\n",
      "36\" x 36\"\n",
      "24\" x 24\"\n",
      "28\" x 46\"\n",
      "28\" x 38\"\n",
      "26\" x 45\"\n",
      "3\" x 270\"\n",
      "24\" x 42\"\n",
      "18\" x 45\"\n",
      "24\" x 34\"\n",
      "3\" x 180\"\n",
      "28\" x 55\"\n",
      "35\" x 36\"\n"
     ]
    }
   ],
   "source": [
    "for i in range(len(df['code'])):\n",
    "    if re.match(r\"\\d+_X_\\d+\",df.iloc[i,0]):\n",
    "        # print(df.iloc[i,1])\n",
    "        if not re.match(\"\\d+\\\" x \\d+\\\"\",df.iloc[i,1]):\n",
    "            val = re.findall(r\"\\d+\",df.iloc[i,1])\n",
    "            new_val = val[0]+\"\\\" x \"+val[1]+\"\\\"\"\n",
    "            df.iloc[i,1] = new_val\n",
    "            print(new_val)\n",
    "        elif re.match(\"\\d+\\\" x \\d+\\\"\",df.iloc[i,1]):\n",
    "            print(df.iloc[i,1])"
   ]
  },
  {
   "cell_type": "code",
   "execution_count": 42,
   "metadata": {},
   "outputs": [
    {
     "name": "stdout",
     "output_type": "stream",
     "text": [
      "28_X_36 \t 28\" x 36\"\n",
      "36_X_45 \t 36\" x 45\"\n",
      "18_X_36 \t 18\" x 36\"\n",
      "35_X_45 \t 35\" x 45\"\n",
      "24_X_18 \t 24\" x 18\"\n",
      "20_X_34 \t 20\" x 34\"\n",
      "35_X_48 \t 35\" x 48\"\n",
      "36_X_60 \t 36\" x 60\"\n",
      "35_X_50 \t 35\" x 50\"\n",
      "35_X_55 \t 35\" x 55\"\n",
      "24_X_36 \t 24\" x 36\"\n",
      "27_X_45 \t 27\" x 45\"\n",
      "36_X_36 \t 36\" x 36\"\n",
      "24_X_24 \t 24\" x 24\"\n",
      "28_X_46 \t 28\" x 46\"\n",
      "28_X_38 \t 28\" x 38\"\n",
      "26_X_45 \t 26\" x 45\"\n",
      "3_X_270 \t 3\" x 270\"\n",
      "24_X_42 \t 24\" x 42\"\n",
      "18_X_45 \t 18\" x 45\"\n",
      "24_X_34 \t 24\" x 34\"\n",
      "3_X_180 \t 3\" x 180\"\n",
      "28_X_55 \t 28\" x 55\"\n",
      "35_X_36 \t 35\" x 36\"\n"
     ]
    }
   ],
   "source": [
    "for i in range(len(df['code'])):\n",
    "    if re.match(r\"\\d+_X_\\d+\",df.iloc[i,0]):\n",
    "        print(df.iloc[i,0],\"\\t\",df.iloc[i,1])"
   ]
  },
  {
   "cell_type": "code",
   "execution_count": 46,
   "metadata": {},
   "outputs": [
    {
     "name": "stdout",
     "output_type": "stream",
     "text": [
      "7in \t 7\"\n",
      "10in \t 10\"\n",
      "8in \t 8\"\n",
      "9in \t 9\"\n",
      "14in \t 14\"\n",
      "18in \t 18\"\n",
      "6in \t 6\"\n",
      "11in \t 11\"\n",
      "36in \t 36\"\n",
      "10_5in \t 10.5\"\n",
      "12in \t 12\"\n",
      "24in \t 24\"\n",
      "9_5in \t 9.5\"\n",
      "22in \t 22\"\n",
      "23in \t 23\"\n",
      "42in \t 42\"\n",
      "25in \t 25\"\n",
      "8_5in \t 8.5\"\n",
      "15in \t 15\"\n",
      "20in \t 20\"\n",
      "13in \t 13\"\n",
      "40in \t 40\"\n",
      "21in \t 21\"\n",
      "11_5in \t 11.5\"\n",
      "28in \t 28\"\n",
      "26in \t 26\"\n",
      "16in \t 16\"\n",
      "6_5in \t 6.5\"\n",
      "45in \t 45\"\n",
      "48in \t 48\"\n",
      "7_5in \t 7.5\"\n",
      "17in \t 17\"\n",
      "4in \t 4\"\n",
      "5in \t 5\"\n",
      "19in \t 19\"\n",
      "54in \t 54\"\n"
     ]
    }
   ],
   "source": [
    "for i in range(len(df['code'])):\n",
    "    if re.match(r\"\\d*_*\\d+$\",df.iloc[i,0]):\n",
    "        if not df.iloc[i,1].endswith(\"\\\"\"):\n",
    "            df.iloc[i,1] = str(df.iloc[i,1])+\"\\\"\"\n",
    "        if not df.iloc[i,0].endswith(\"in\"):\n",
    "            new_val2 = df.iloc[i,0]+\"in\"\n",
    "            df.iloc[i,0]=new_val2\n",
    "        print(df.iloc[i,0],'\\t',df.iloc[i,1])"
   ]
  },
  {
   "cell_type": "code",
   "execution_count": 34,
   "metadata": {},
   "outputs": [],
   "source": [
    "df.to_excel(\"Data/export_size.xlsx\",index=None)"
   ]
  },
  {
   "cell_type": "code",
   "execution_count": null,
   "metadata": {},
   "outputs": [],
   "source": []
  }
 ],
 "metadata": {
  "kernelspec": {
   "display_name": "Python 3",
   "language": "python",
   "name": "python3"
  },
  "language_info": {
   "codemirror_mode": {
    "name": "ipython",
    "version": 3
   },
   "file_extension": ".py",
   "mimetype": "text/x-python",
   "name": "python",
   "nbconvert_exporter": "python",
   "pygments_lexer": "ipython3",
   "version": "3.8.10"
  },
  "orig_nbformat": 4,
  "vscode": {
   "interpreter": {
    "hash": "916dbcbb3f70747c44a77c7bcd40155683ae19c65e1c03b4aa3499c5328201f1"
   }
  }
 },
 "nbformat": 4,
 "nbformat_minor": 2
}
